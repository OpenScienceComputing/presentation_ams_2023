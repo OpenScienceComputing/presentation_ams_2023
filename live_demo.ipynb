{
 "cells": [
  {
   "cell_type": "code",
   "execution_count": null,
   "id": "c2fcea4d-62e5-49b9-8334-0df21e3f3916",
   "metadata": {},
   "outputs": [],
   "source": [
    "from distributed import Client\n",
    "client = Client()\n",
    "client"
   ]
  },
  {
   "cell_type": "code",
   "execution_count": null,
   "id": "5b7b0b20-68d5-4288-b2a8-f05dc90bdaf0",
   "metadata": {},
   "outputs": [],
   "source": [
    "import time\n",
    "tic = time.time()"
   ]
  },
  {
   "cell_type": "code",
   "execution_count": null,
   "id": "c8f6ee49-adaf-41c1-b8f8-64878d96ecff",
   "metadata": {
    "slideshow": {
     "slide_type": "skip"
    }
   },
   "outputs": [],
   "source": [
    "import xarray as xr\n",
    "import numpy as np\n",
    "import matplotlib.pyplot as plt\n",
    "\n",
    "from xmip.preprocessing import combined_preprocessing\n",
    "from xmip.utils import google_cmip_col\n",
    "\n",
    "from xarrayutils.plotting import shaded_line_plot\n",
    "xr.set_options(keep_attrs=True)\n",
    "%matplotlib inline\n",
    "%config InlineBackend.figure_format='retina'\n",
    "plt.rcParams['figure.figsize'] = (10,5)"
   ]
  },
  {
   "cell_type": "markdown",
   "id": "34ee3e03-0dd4-41d1-9ae1-3d2ff9d89207",
   "metadata": {},
   "source": [
    "## Load CMIP6 data from Pangeo Cloud Storage"
   ]
  },
  {
   "cell_type": "code",
   "execution_count": null,
   "id": "f98481ad-8a3f-41dd-9b48-347fa51e6f6b",
   "metadata": {
    "slideshow": {
     "slide_type": "skip"
    }
   },
   "outputs": [],
   "source": [
    "col = google_cmip_col()\n",
    "query = dict(\n",
    "    source_id = [\n",
    "     'IPSL-CM6A-LR',\n",
    "     'MPI-ESM1-2-LR',\n",
    "     'GFDL-ESM4',\n",
    "     'EC-Earth3',\n",
    "     'CMCC-ESM2',\n",
    "     'CESM2',\n",
    "    ],\n",
    "    experiment_id = ['historical','ssp126', 'ssp370', 'ssp245', 'ssp585'],\n",
    "    grid_label='gn',\n",
    ")\n",
    "cat = col.search(\n",
    "    **query,\n",
    "    variable_id='tos',\n",
    "    member_id=['r1i1p1f1',],#'r2i1p1f1'\n",
    "    table_id='Omon'\n",
    ")\n",
    "kwargs = dict(preprocess=combined_preprocessing, xarray_open_kwargs=dict(use_cftime=True), aggregate=False)\n",
    "ddict = cat.to_dataset_dict(**kwargs)"
   ]
  },
  {
   "cell_type": "code",
   "execution_count": null,
   "id": "fde1a96a-f5b9-4978-a4d9-3fab67d82b32",
   "metadata": {},
   "outputs": [],
   "source": [
    "cat_area = col.search(\n",
    "    **query,\n",
    "    table_id='Ofx',\n",
    "    variable_id='areacello',\n",
    ")\n",
    "ddict_area = cat_area.to_dataset_dict(**kwargs)"
   ]
  },
  {
   "cell_type": "markdown",
   "id": "e0283fb5-3bc3-4088-983e-63e98417e079",
   "metadata": {},
   "source": [
    "## Postprocess loaded data with xmip"
   ]
  },
  {
   "cell_type": "code",
   "execution_count": null,
   "id": "aef760c8-3039-49e9-a757-42704d91d019",
   "metadata": {},
   "outputs": [],
   "source": [
    "from xmip.postprocessing import match_metrics\n",
    "ddict_w_area = match_metrics(ddict, ddict_area, 'areacello', print_statistics=True) "
   ]
  },
  {
   "cell_type": "code",
   "execution_count": null,
   "id": "ea090ea5-2be5-4be0-858d-726e2e59bd17",
   "metadata": {},
   "outputs": [],
   "source": [
    "_ = xr.set_options(use_new_combine_kwarg_defaults=True)"
   ]
  },
  {
   "cell_type": "code",
   "execution_count": null,
   "id": "922ca2cf-293f-4db6-afec-c848ef04fb90",
   "metadata": {},
   "outputs": [],
   "source": [
    "from xmip.postprocessing import concat_members\n",
    "\n",
    "ddict_trimmed = {k:ds.sel(time=slice(None, '2100')) for k,ds in ddict_w_area.items()}\n",
    "ddict_combined_members = concat_members(\n",
    "    ddict_w_area,\n",
    "    concat_kwargs = {'coords':'minimal', 'compat':'override', 'join':'override'}\n",
    ")"
   ]
  },
  {
   "cell_type": "markdown",
   "id": "ce18eb99-bafe-4657-b2de-86193f29a23e",
   "metadata": {
    "slideshow": {
     "slide_type": "slide"
    }
   },
   "source": [
    "## Organize datasets in xarray-datatree"
   ]
  },
  {
   "cell_type": "code",
   "execution_count": null,
   "id": "bee001dd-e9b6-4429-b52d-d4e2fc9200f9",
   "metadata": {},
   "outputs": [],
   "source": [
    "from xarray.core.datatree import DataTree\n",
    "\n",
    "# create a path: dataset dictionary, where the path is based on each datasets attributes\n",
    "tree_dict = {f\"{ds.source_id}/{ds.experiment_id}/\":ds for ds in ddict_combined_members.values()}\n",
    "\n",
    "dt = DataTree.from_dict(tree_dict)\n",
    "dt"
   ]
  },
  {
   "cell_type": "code",
   "execution_count": null,
   "id": "62b440af-42ba-438d-b949-d65e50de9efc",
   "metadata": {},
   "outputs": [],
   "source": [
    "dt.nbytes / 1e9  # size in GB"
   ]
  },
  {
   "cell_type": "markdown",
   "id": "a29cfd91-a38c-4ff3-b97c-bfd586f6ed17",
   "metadata": {},
   "source": [
    "## Select a single member that is present in each experiment"
   ]
  },
  {
   "cell_type": "code",
   "execution_count": null,
   "id": "c471f4ef-3da2-43c9-a2b9-5ad06bb397b3",
   "metadata": {},
   "outputs": [],
   "source": [
    "dt_single_member = DataTree()\n",
    "for model_name, model in dt.children.items():\n",
    "    member_id_values = []\n",
    "    for experiment_name, experiment in model.children.items():\n",
    "        ds = experiment.ds\n",
    "        member_id_values.append(set(ds.member_id.data))  \n",
    "    \n",
    "    # find the intersection of all values\n",
    "    # print(member_id_values)\n",
    "    full_members = set(member_id_values[0]).intersection(*member_id_values)\n",
    "    # sort and take the first one\n",
    "    pick_member = sorted(full_members)[0]\n",
    "    dt_single_member[model_name] = model.sel(member_id=pick_member)"
   ]
  },
  {
   "cell_type": "markdown",
   "id": "15c14fda-9a96-4a88-81ad-fc70e0188ff6",
   "metadata": {},
   "source": [
    "## Compute weighted global mean SST"
   ]
  },
  {
   "cell_type": "code",
   "execution_count": null,
   "id": "960a5179-781b-4ee0-a4e6-4d067921b031",
   "metadata": {},
   "outputs": [],
   "source": [
    "# average temperature globally\n",
    "def global_mean_sst(ds):\n",
    "    if not ds:\n",
    "        return None\n",
    "    else:\n",
    "        return ds.tos.weighted(ds.areacello.fillna(0)).mean(['x', 'y']).persist().to_dataset() \n",
    "\n",
    "timeseries = dt_single_member.map_over_datasets(global_mean_sst)\n",
    "timeseries"
   ]
  },
  {
   "cell_type": "code",
   "execution_count": null,
   "id": "ac885c37-886e-48d7-8873-06b83a690cb8",
   "metadata": {
    "slideshow": {
     "slide_type": "subslide"
    }
   },
   "outputs": [],
   "source": [
    "timeseries['/IPSL-CM6A-LR/ssp585'].ds['tos'].plot()"
   ]
  },
  {
   "cell_type": "markdown",
   "id": "e108065e-7a38-4c6c-ab97-a8f139cac674",
   "metadata": {},
   "source": [
    "## Compute anomaly to 1950-1980"
   ]
  },
  {
   "cell_type": "code",
   "execution_count": null,
   "id": "855450b5-c662-4692-9c72-1aa5e8f2a8d8",
   "metadata": {
    "slideshow": {
     "slide_type": "slide"
    }
   },
   "outputs": [],
   "source": [
    "def get_ref_value(ds):\n",
    "    return ds.sel(time=slice('1950','1980')).mean('time')\n",
    "\n",
    "anomaly = DataTree()\n",
    "for model_name, model in timeseries.children.items():\n",
    "    # model-specific base period\n",
    "    base_period = get_ref_value(model[\"historical\"].ds)\n",
    "    anomaly[model_name] = model - base_period   # subtree - Dataset"
   ]
  },
  {
   "cell_type": "code",
   "execution_count": null,
   "id": "df70484a-efb5-43f6-8a70-b1961c31e06c",
   "metadata": {},
   "outputs": [],
   "source": [
    "def replace_time(ds):\n",
    "    start_date = ds.time.data[0]\n",
    "    new_time = xr.date_range(f\"{start_date.year}-{start_date.month:02}\", \n",
    "                             freq='1MS', periods=len(ds.time), use_cftime=True)\n",
    "    ds_new_cal = ds.assign_coords(time=new_time, source_id=model_name)\n",
    "    return ds_new_cal\n",
    "    \n",
    "\n",
    "experiment_dict = {k:[] for k in ['historical','ssp126', 'ssp370', 'ssp245', 'ssp585']}\n",
    "\n",
    "for model_name, model in anomaly.children.items():\n",
    "    for experiment_name, experiment in model.children.items():\n",
    "        # replace the time dimension\n",
    "        ds_new_cal = replace_time(experiment.ds)\n",
    "        experiment_dict[experiment_name].append(ds_new_cal.load())\n",
    "\n",
    "# concatenate all models for a given experiment\n",
    "plot_dict = {k:xr.concat(ds_lst, dim='source_id') for k, ds_lst in experiment_dict.items()}"
   ]
  },
  {
   "cell_type": "markdown",
   "id": "f8c03905-4002-4578-b6a1-adbfd2b4aa1f",
   "metadata": {},
   "source": [
    "## Load observational dataset (thanks [pangeo-forge](https://pangeo-forge.org)!)"
   ]
  },
  {
   "cell_type": "code",
   "execution_count": null,
   "id": "0f1e0ccf-3e15-4a80-81df-dd61bb1e843b",
   "metadata": {},
   "outputs": [],
   "source": [
    "store = 'https://ncsa.osn.xsede.org/Pangeo/pangeo-forge/HadISST-feedstock/hadisst.zarr'\n",
    "ds_obs = xr.open_dataset(store, engine='zarr', chunks={}).rename({'sst':'tos'}).convert_calendar('standard', use_cftime=True)\n",
    "\n",
    "# mask missing values\n",
    "ds_obs = ds_obs.where(abs(ds_obs.tos)<50)\n",
    "\n",
    "# reconstruct area\n",
    "area = np.cos(np.deg2rad(ds_obs.latitude)) * 110e3 **2\n",
    "\n",
    "# Repeat same steps from above\n",
    "ds_obs_ts = ds_obs.weighted(area).mean(['longitude', 'latitude'])\n",
    "ds_obs_anomaly = ds_obs_ts - get_ref_value(ds_obs_ts)\n",
    "\n",
    "# add to plot_dict\n",
    "plot_dict['observations'] = ds_obs_anomaly.expand_dims(['source_id', 'dcpp_init_year']).load()"
   ]
  },
  {
   "cell_type": "markdown",
   "id": "f6535b0a-8a8d-487d-981c-203d3051979f",
   "metadata": {},
   "source": [
    "## Here it is!"
   ]
  },
  {
   "cell_type": "code",
   "execution_count": null,
   "id": "84f80b54-99e7-4a6d-b382-6fbd79d72b4a",
   "metadata": {
    "slideshow": {
     "slide_type": "slide"
    }
   },
   "outputs": [],
   "source": [
    "fig, ax = plt.subplots()\n",
    "\n",
    "color_dict = {\n",
    "    'historical':'0.5',\n",
    "    'ssp126': 'C2',\n",
    "    'ssp245': 'gold',\n",
    "    'ssp370': 'C1',\n",
    "    'ssp585': 'C3',\n",
    "    'observations': 'C5'\n",
    "}\n",
    "for experiment, ds in plot_dict.items():\n",
    "    color = color_dict[experiment]\n",
    "    smooth = ds['tos'].sel(time=slice(None, '2100')).rolling(time=2*12).mean().squeeze('dcpp_init_year')\n",
    "    lw = 2 if experiment=='observations' else 1.5\n",
    "    shaded_line_plot(smooth, 'source_id', ax=ax, spreads=[2.0], alphas=[0.2], line_kwargs=dict(color=color, label=f\"{experiment} ({len(ds.source_id)})\", lw=lw))\n",
    "plt.legend(loc=2);\n",
    "plt.grid()\n",
    "plt.tight_layout()"
   ]
  },
  {
   "cell_type": "code",
   "execution_count": null,
   "id": "21f4497c-86d0-472e-aa14-2ad785834fae",
   "metadata": {},
   "outputs": [],
   "source": [
    "toc = time.time()\n",
    "print(f\"Elapsed time: {int(toc-tic)} seconds\")"
   ]
  }
 ],
 "metadata": {
  "celltoolbar": "Slideshow",
  "kernelspec": {
   "display_name": "Python 3 (ipykernel)",
   "language": "python",
   "name": "python3"
  },
  "language_info": {
   "codemirror_mode": {
    "name": "ipython",
    "version": 3
   },
   "file_extension": ".py",
   "mimetype": "text/x-python",
   "name": "python",
   "nbconvert_exporter": "python",
   "pygments_lexer": "ipython3",
   "version": "3.13.7"
  }
 },
 "nbformat": 4,
 "nbformat_minor": 5
}
